{
  "nbformat": 4,
  "nbformat_minor": 0,
  "metadata": {
    "colab": {
      "name": "Untitled1.ipynb",
      "version": "0.3.2",
      "provenance": [],
      "collapsed_sections": []
    },
    "language_info": {
      "codemirror_mode": {
        "name": "ipython",
        "version": 3
      },
      "file_extension": ".py",
      "mimetype": "text/x-python",
      "name": "python",
      "nbconvert_exporter": "python",
      "pygments_lexer": "ipython3",
      "version": "3.5.2"
    },
    "kernelspec": {
      "name": "python3",
      "display_name": "Python 3"
    },
    "accelerator": "GPU"
  },
  "cells": [
    {
      "metadata": {
        "id": "ihWFRwGljzYy",
        "colab_type": "text"
      },
      "cell_type": "markdown",
      "source": [
        "Importing the python packages"
      ]
    },
    {
      "metadata": {
        "id": "5ppDnK3UVrcP",
        "colab_type": "code",
        "colab": {}
      },
      "cell_type": "code",
      "source": [
        "import numpy as np\n",
        "import matplotlib.pyplot as plt\n",
        "import pickle\n",
        "import cv2"
      ],
      "execution_count": 0,
      "outputs": []
    },
    {
      "metadata": {
        "id": "IoOdT8t3V5AM",
        "colab_type": "code",
        "colab": {
          "base_uri": "https://localhost:8080/",
          "height": 122
        },
        "outputId": "65f94144-49b2-4dfc-8d72-16a3cdab714c"
      },
      "cell_type": "code",
      "source": [
        "# Load the Drive helper and mount\n",
        "from google.colab import drive\n",
        "\n",
        "# This will prompt for authorization.\n",
        "drive.mount('/content/drive')"
      ],
      "execution_count": 2,
      "outputs": [
        {
          "output_type": "stream",
          "text": [
            "Go to this URL in a browser: https://accounts.google.com/o/oauth2/auth?client_id=947318989803-6bn6qk8qdgf4n4g3pfee6491hc0brc4i.apps.googleusercontent.com&redirect_uri=urn%3Aietf%3Awg%3Aoauth%3A2.0%3Aoob&scope=email%20https%3A%2F%2Fwww.googleapis.com%2Fauth%2Fdocs.test%20https%3A%2F%2Fwww.googleapis.com%2Fauth%2Fdrive%20https%3A%2F%2Fwww.googleapis.com%2Fauth%2Fdrive.photos.readonly%20https%3A%2F%2Fwww.googleapis.com%2Fauth%2Fpeopleapi.readonly&response_type=code\n",
            "\n",
            "Enter your authorization code:\n",
            "··········\n",
            "Mounted at /content/drive\n"
          ],
          "name": "stdout"
        }
      ]
    },
    {
      "metadata": {
        "id": "_xi0091nkA-z",
        "colab_type": "text"
      },
      "cell_type": "markdown",
      "source": [
        "Reading the training and test files"
      ]
    },
    {
      "metadata": {
        "id": "zTfvWuBkVrcS",
        "colab_type": "code",
        "colab": {}
      },
      "cell_type": "code",
      "source": [
        "file1 = \"/content/drive/My Drive/Colab Notebooks/intern/Vision_task_dataset_public/train_image.pkl\"\n",
        "file2 = \"/content/drive/My Drive/Colab Notebooks/intern/Vision_task_dataset_public/train_label.pkl\"\n",
        "file3 = \"/content/drive/My Drive/Colab Notebooks/intern/Vision_task_dataset_public/test_image.pkl\""
      ],
      "execution_count": 0,
      "outputs": []
    },
    {
      "metadata": {
        "id": "aoEcrDHhVrcU",
        "colab_type": "code",
        "colab": {}
      },
      "cell_type": "code",
      "source": [
        "\n",
        "with open(file1, 'rb') as f:\n",
        "    train1 = pickle.load(f)\n",
        "with open(file2, 'rb') as f2:\n",
        "    ytrain1 = pickle.load(f2)\n",
        "with open(file3, 'rb') as f3:\n",
        "    Xtest = pickle.load(f3)"
      ],
      "execution_count": 0,
      "outputs": []
    },
    {
      "metadata": {
        "id": "ZY3ND5CYkHBK",
        "colab_type": "text"
      },
      "cell_type": "markdown",
      "source": [
        "Resizing the training and test set"
      ]
    },
    {
      "metadata": {
        "id": "xh6UEmJOVrcW",
        "colab_type": "code",
        "colab": {}
      },
      "cell_type": "code",
      "source": [
        "Xtrain = train1\n",
        "ytrain = ytrain1"
      ],
      "execution_count": 0,
      "outputs": []
    },
    {
      "metadata": {
        "id": "KPtqzpxgVrcZ",
        "colab_type": "code",
        "colab": {
          "base_uri": "https://localhost:8080/",
          "height": 51
        },
        "outputId": "7929d396-91e9-4cdd-ed3d-991e110f5bd0"
      },
      "cell_type": "code",
      "source": [
        "print(len(Xtrain))\n",
        "print(len(ytrain))\n",
        "Xtrain = np.array(Xtrain)\n",
        "ytrain = np.array(ytrain)"
      ],
      "execution_count": 6,
      "outputs": [
        {
          "output_type": "stream",
          "text": [
            "8000\n",
            "8000\n"
          ],
          "name": "stdout"
        }
      ]
    },
    {
      "metadata": {
        "id": "m7i9EdxQVrcd",
        "colab_type": "code",
        "colab": {
          "base_uri": "https://localhost:8080/",
          "height": 68
        },
        "outputId": "fcc2283d-e939-4854-e17c-1e34dec19c18"
      },
      "cell_type": "code",
      "source": [
        "print(Xtrain.shape)\n",
        "print(ytrain.shape)\n",
        "Xtest = np.array(Xtest)\n",
        "print(Xtest.shape)"
      ],
      "execution_count": 7,
      "outputs": [
        {
          "output_type": "stream",
          "text": [
            "(8000, 784)\n",
            "(8000,)\n",
            "(2000, 784)\n"
          ],
          "name": "stdout"
        }
      ]
    },
    {
      "metadata": {
        "id": "9umjXis0Vrcg",
        "colab_type": "code",
        "colab": {
          "base_uri": "https://localhost:8080/",
          "height": 34
        },
        "outputId": "4c1d577c-32bc-484c-d4d0-16fb18b785cd"
      },
      "cell_type": "code",
      "source": [
        "print(np.unique(ytrain))"
      ],
      "execution_count": 8,
      "outputs": [
        {
          "output_type": "stream",
          "text": [
            "[0 2 3 6]\n"
          ],
          "name": "stdout"
        }
      ]
    },
    {
      "metadata": {
        "id": "hLBHjOHRVrcj",
        "colab_type": "code",
        "colab": {}
      },
      "cell_type": "code",
      "source": [
        "#for i in ytrain:\n",
        "#    print(i, end = \" \")"
      ],
      "execution_count": 0,
      "outputs": []
    },
    {
      "metadata": {
        "id": "v10tqTrmkMd0",
        "colab_type": "text"
      },
      "cell_type": "markdown",
      "source": [
        "Displaying sample training data"
      ]
    },
    {
      "metadata": {
        "id": "RZkXGY5_Vrcl",
        "colab_type": "code",
        "colab": {
          "base_uri": "https://localhost:8080/",
          "height": 1073
        },
        "outputId": "924cb2f6-f3a0-468f-9f2f-4ac2a56f15ba"
      },
      "cell_type": "code",
      "source": [
        "lis = [0,2,3,6]\n",
        "for i in lis:\n",
        "    imx = Xtrain[ytrain==i]\n",
        "    imx = np.resize(imx, (28,28))\n",
        "    plt.imshow(imx, cmap = 'gray')\n",
        "    plt.title(i)\n",
        "    plt.show()\n",
        "\n"
      ],
      "execution_count": 10,
      "outputs": [
        {
          "output_type": "display_data",
          "data": {
            "image/png": "[encoded data removed]",
            "text/plain": [
              "<Figure size 432x288 with 1 Axes>"
            ]
          },
          "metadata": {
            "tags": []
          }
        },
        {
          "output_type": "display_data",
          "data": {
            "image/png": "[encoded data removed]",
            "text/plain": [
              "<Figure size 432x288 with 1 Axes>"
            ]
          },
          "metadata": {
            "tags": []
          }
        },
        {
          "output_type": "display_data",
          "data": {
            "image/png": "[encoded data removed]",
            "text/plain": [
              "<Figure size 432x288 with 1 Axes>"
            ]
          },
          "metadata": {
            "tags": []
          }
        },
        {
          "output_type": "display_data",
          "data": {
            "image/png": "[encoded data removed]",
            "text/plain": [
              "<Figure size 432x288 with 1 Axes>"
            ]
          },
          "metadata": {
            "tags": []
          }
        }
      ]
    },
    {
      "metadata": {
        "id": "UMSnZWYMVrco",
        "colab_type": "code",
        "colab": {
          "base_uri": "https://localhost:8080/",
          "height": 941
        },
        "outputId": "dc381ab3-62a3-459c-bc88-2519a6e901bc"
      },
      "cell_type": "code",
      "source": [
        "plt.figure(figsize=(16,16))\n",
        "j = 0\n",
        "for i in range(100,150):\n",
        "    plt.subplot(10,5,j+1)\n",
        "    i = np.array(Xtest[i])\n",
        "    i = np.resize(i, (28,28))\n",
        "    j+=1\n",
        "    plt.imshow(i, cmap = 'gray')\n",
        "\n",
        "plt.show()"
      ],
      "execution_count": 11,
      "outputs": [
        {
          "output_type": "display_data",
          "data": {
            "image/png": "[encoded data removed]",
            "text/plain": [
              "<Figure size 1152x1152 with 50 Axes>"
            ]
          },
          "metadata": {
            "tags": []
          }
        }
      ]
    },
    {
      "metadata": {
        "id": "AXUuu0jtVrcr",
        "colab_type": "code",
        "colab": {}
      },
      "cell_type": "code",
      "source": [
        ""
      ],
      "execution_count": 0,
      "outputs": []
    },
    {
      "metadata": {
        "id": "Ii31LO0tkSoH",
        "colab_type": "text"
      },
      "cell_type": "markdown",
      "source": [
        "Making the range of training values in a consecutive form for keras"
      ]
    },
    {
      "metadata": {
        "id": "ePrSd69aVrcu",
        "colab_type": "code",
        "colab": {}
      },
      "cell_type": "code",
      "source": [
        "for i in range(len(ytrain)):\n",
        "    if ytrain[i] == 2:\n",
        "        ytrain[i] = 1\n",
        "    elif ytrain[i] == 3:\n",
        "        ytrain[i] = 2\n",
        "    elif ytrain[i] == 6:\n",
        "        ytrain[i] = 3"
      ],
      "execution_count": 0,
      "outputs": []
    },
    {
      "metadata": {
        "id": "NLqktdf_Vrcw",
        "colab_type": "code",
        "colab": {
          "base_uri": "https://localhost:8080/",
          "height": 34
        },
        "outputId": "7543b6ee-58e3-4e18-dedf-894ff7001036"
      },
      "cell_type": "code",
      "source": [
        "print(np.unique(ytrain))"
      ],
      "execution_count": 13,
      "outputs": [
        {
          "output_type": "stream",
          "text": [
            "[0 1 2 3]\n"
          ],
          "name": "stdout"
        }
      ]
    },
    {
      "metadata": {
        "id": "vJg4f1I8Vrcz",
        "colab_type": "code",
        "colab": {}
      },
      "cell_type": "code",
      "source": [
        ""
      ],
      "execution_count": 0,
      "outputs": []
    },
    {
      "metadata": {
        "id": "PRmxWUImVrc1",
        "colab_type": "code",
        "colab": {}
      },
      "cell_type": "code",
      "source": [
        "Xtrain = np.resize(Xtrain,(8000, 28,28,1))\n",
        "Xtest = np.resize(Xtest, (2000, 28,28,1))"
      ],
      "execution_count": 0,
      "outputs": []
    },
    {
      "metadata": {
        "id": "BepR-z31Vrc5",
        "colab_type": "code",
        "colab": {
          "base_uri": "https://localhost:8080/",
          "height": 51
        },
        "outputId": "c158338f-121a-41d3-afcb-8940d04f5cfa"
      },
      "cell_type": "code",
      "source": [
        "print(Xtrain.shape)\n",
        "print(Xtest.shape)"
      ],
      "execution_count": 15,
      "outputs": [
        {
          "output_type": "stream",
          "text": [
            "(8000, 28, 28, 1)\n",
            "(2000, 28, 28, 1)\n"
          ],
          "name": "stdout"
        }
      ]
    },
    {
      "metadata": {
        "id": "8701vd0TVrc-",
        "colab_type": "code",
        "colab": {
          "base_uri": "https://localhost:8080/",
          "height": 51
        },
        "outputId": "f351dbdf-8d0c-4ef9-db97-32bf006618fa"
      },
      "cell_type": "code",
      "source": [
        "print(Xtrain[0].shape)\n",
        "print(Xtest[0].shape)"
      ],
      "execution_count": 16,
      "outputs": [
        {
          "output_type": "stream",
          "text": [
            "(28, 28, 1)\n",
            "(28, 28, 1)\n"
          ],
          "name": "stdout"
        }
      ]
    },
    {
      "metadata": {
        "id": "qduQFuUQkd7t",
        "colab_type": "text"
      },
      "cell_type": "markdown",
      "source": [
        "Normalizing training and test data"
      ]
    },
    {
      "metadata": {
        "id": "iaRgME-hVrdC",
        "colab_type": "code",
        "colab": {}
      },
      "cell_type": "code",
      "source": [
        "Xtrain = Xtrain.astype('float32')\n",
        "Xtest = Xtest.astype('float32')\n",
        "\n",
        "Xtrain /= 255\n",
        "Xtest /= 255\n"
      ],
      "execution_count": 0,
      "outputs": []
    },
    {
      "metadata": {
        "id": "F80qsgigVrdF",
        "colab_type": "code",
        "colab": {}
      },
      "cell_type": "code",
      "source": [
        "#plt.imshow(Xtrain[0,:,:,0], cmap = 'gray')\n",
        "#plt.show()"
      ],
      "execution_count": 0,
      "outputs": []
    },
    {
      "metadata": {
        "id": "jren4qLMVrdH",
        "colab_type": "code",
        "colab": {}
      },
      "cell_type": "code",
      "source": [
        "from sklearn.model_selection import train_test_split\n",
        "Xtrain, Xval, ytrain, yval = train_test_split(Xtrain, ytrain, test_size=0.05, random_state=1)\n"
      ],
      "execution_count": 0,
      "outputs": []
    },
    {
      "metadata": {
        "id": "uUcKdKeHVrdK",
        "colab_type": "code",
        "colab": {
          "base_uri": "https://localhost:8080/",
          "height": 51
        },
        "outputId": "9793ae2c-cfbf-4c70-9daa-47e11fcf7caf"
      },
      "cell_type": "code",
      "source": [
        "print(Xtrain.shape)\n",
        "print(Xval.shape)"
      ],
      "execution_count": 20,
      "outputs": [
        {
          "output_type": "stream",
          "text": [
            "(7600, 28, 28, 1)\n",
            "(400, 28, 28, 1)\n"
          ],
          "name": "stdout"
        }
      ]
    },
    {
      "metadata": {
        "id": "DjgpvboWVrdN",
        "colab_type": "code",
        "colab": {}
      },
      "cell_type": "code",
      "source": [
        "#Xtrain = Xtrain.reshape(Xtrain.shape[0], 28, 28, 1)\n",
        "#Xval = Xval.reshape(Xval.shape[0], 28, 28, 1)\n",
        "#Xtest = Xtest.reshape(Xtest.shape[0], 28, 28, 1)"
      ],
      "execution_count": 0,
      "outputs": []
    },
    {
      "metadata": {
        "id": "ROpfk59ukiF_",
        "colab_type": "text"
      },
      "cell_type": "markdown",
      "source": [
        "Training the model"
      ]
    },
    {
      "metadata": {
        "id": "ROoBtIQSVrdR",
        "colab_type": "code",
        "colab": {
          "base_uri": "https://localhost:8080/",
          "height": 156
        },
        "outputId": "840f76c9-6576-468c-e54c-10fbe403f291"
      },
      "cell_type": "code",
      "source": [
        "import keras\n",
        "from keras.models import Sequential\n",
        "from keras.layers import Dense, Dropout, Flatten\n",
        "from keras.layers import Conv2D, MaxPooling2D\n",
        "from keras.layers.normalization import BatchNormalization\n",
        "\n",
        "batch_size = 256\n",
        "num_classes = 4\n",
        "epochs = 50\n",
        "\n",
        "rows, cols = 28, 28\n",
        "\n",
        "model = Sequential()\n",
        "model.add(Conv2D(32, kernel_size=(3, 3),\n",
        "                 activation='relu',\n",
        "                 kernel_initializer='he_normal',\n",
        "                 input_shape = (rows, cols, 1)))\n",
        "model.add(MaxPooling2D((2, 2)))\n",
        "model.add(Dropout(0.25))\n",
        "model.add(Conv2D(64, (3, 3), activation='relu'))\n",
        "model.add(MaxPooling2D(pool_size=(2, 2)))\n",
        "model.add(Dropout(0.25))\n",
        "model.add(Conv2D(128, (3, 3), activation='relu'))\n",
        "model.add(Dropout(0.4))\n",
        "model.add(Flatten())\n",
        "model.add(Dense(128, activation='relu'))\n",
        "model.add(Dropout(0.3))\n",
        "model.add(Dense(num_classes, activation='softmax'))\n",
        "\n",
        "model.compile(loss='sparse_categorical_crossentropy',\n",
        "              optimizer=keras.optimizers.Adam(),\n",
        "              metrics=['accuracy'])"
      ],
      "execution_count": 22,
      "outputs": [
        {
          "output_type": "stream",
          "text": [
            "Using TensorFlow backend.\n"
          ],
          "name": "stderr"
        },
        {
          "output_type": "stream",
          "text": [
            "WARNING:tensorflow:From /usr/local/lib/python3.6/dist-packages/tensorflow/python/framework/op_def_library.py:263: colocate_with (from tensorflow.python.framework.ops) is deprecated and will be removed in a future version.\n",
            "Instructions for updating:\n",
            "Colocations handled automatically by placer.\n",
            "WARNING:tensorflow:From /usr/local/lib/python3.6/dist-packages/keras/backend/tensorflow_backend.py:3445: calling dropout (from tensorflow.python.ops.nn_ops) with keep_prob is deprecated and will be removed in a future version.\n",
            "Instructions for updating:\n",
            "Please use `rate` instead of `keep_prob`. Rate should be set to `rate = 1 - keep_prob`.\n"
          ],
          "name": "stdout"
        }
      ]
    },
    {
      "metadata": {
        "id": "p4m346BrVrdU",
        "colab_type": "code",
        "colab": {
          "base_uri": "https://localhost:8080/",
          "height": 1805
        },
        "outputId": "9c2e14e1-e5c8-4586-82bd-1d33a734810f"
      },
      "cell_type": "code",
      "source": [
        "res = model.fit(Xtrain, ytrain,\n",
        "          batch_size=batch_size,\n",
        "          epochs=epochs,\n",
        "          verbose=1,\n",
        "          validation_data=(Xval, yval))\n"
      ],
      "execution_count": 23,
      "outputs": [
        {
          "output_type": "stream",
          "text": [
            "WARNING:tensorflow:From /usr/local/lib/python3.6/dist-packages/tensorflow/python/ops/math_ops.py:3066: to_int32 (from tensorflow.python.ops.math_ops) is deprecated and will be removed in a future version.\n",
            "Instructions for updating:\n",
            "Use tf.cast instead.\n",
            "Train on 7600 samples, validate on 400 samples\n",
            "Epoch 1/50\n",
            "7600/7600 [==============================] - 6s 741us/step - loss: 1.0386 - acc: 0.5354 - val_loss: 0.8018 - val_acc: 0.6450\n",
            "Epoch 2/50\n",
            "7600/7600 [==============================] - 1s 70us/step - loss: 0.7413 - acc: 0.6674 - val_loss: 0.6794 - val_acc: 0.7075\n",
            "Epoch 3/50\n",
            "7600/7600 [==============================] - 1s 70us/step - loss: 0.6569 - acc: 0.7088 - val_loss: 0.6142 - val_acc: 0.7525\n",
            "Epoch 4/50\n",
            "7600/7600 [==============================] - 1s 69us/step - loss: 0.5867 - acc: 0.7549 - val_loss: 0.5324 - val_acc: 0.8025\n",
            "Epoch 5/50\n",
            "7600/7600 [==============================] - 1s 69us/step - loss: 0.5443 - acc: 0.7787 - val_loss: 0.5098 - val_acc: 0.7975\n",
            "Epoch 6/50\n",
            "7600/7600 [==============================] - 1s 69us/step - loss: 0.5071 - acc: 0.7983 - val_loss: 0.4616 - val_acc: 0.8300\n",
            "Epoch 7/50\n",
            "7600/7600 [==============================] - 1s 70us/step - loss: 0.4833 - acc: 0.8064 - val_loss: 0.4511 - val_acc: 0.8225\n",
            "Epoch 8/50\n",
            "7600/7600 [==============================] - 1s 70us/step - loss: 0.4640 - acc: 0.8158 - val_loss: 0.4088 - val_acc: 0.8300\n",
            "Epoch 9/50\n",
            "7600/7600 [==============================] - 1s 69us/step - loss: 0.4387 - acc: 0.8268 - val_loss: 0.3842 - val_acc: 0.8400\n",
            "Epoch 10/50\n",
            "7600/7600 [==============================] - 1s 69us/step - loss: 0.4332 - acc: 0.8286 - val_loss: 0.3845 - val_acc: 0.8525\n",
            "Epoch 11/50\n",
            "7600/7600 [==============================] - 1s 69us/step - loss: 0.4220 - acc: 0.8314 - val_loss: 0.3857 - val_acc: 0.8750\n",
            "Epoch 12/50\n",
            "7600/7600 [==============================] - 1s 68us/step - loss: 0.4057 - acc: 0.8354 - val_loss: 0.3743 - val_acc: 0.8550\n",
            "Epoch 13/50\n",
            "7600/7600 [==============================] - 1s 69us/step - loss: 0.3993 - acc: 0.8436 - val_loss: 0.3603 - val_acc: 0.8650\n",
            "Epoch 14/50\n",
            "7600/7600 [==============================] - 1s 70us/step - loss: 0.3909 - acc: 0.8479 - val_loss: 0.3618 - val_acc: 0.8700\n",
            "Epoch 15/50\n",
            "7600/7600 [==============================] - 1s 70us/step - loss: 0.3806 - acc: 0.8513 - val_loss: 0.3475 - val_acc: 0.8775\n",
            "Epoch 16/50\n",
            "7600/7600 [==============================] - 1s 70us/step - loss: 0.3673 - acc: 0.8503 - val_loss: 0.3510 - val_acc: 0.8550\n",
            "Epoch 17/50\n",
            "7600/7600 [==============================] - 1s 70us/step - loss: 0.3523 - acc: 0.8597 - val_loss: 0.3556 - val_acc: 0.8700\n",
            "Epoch 18/50\n",
            "7600/7600 [==============================] - 1s 69us/step - loss: 0.3612 - acc: 0.8570 - val_loss: 0.3405 - val_acc: 0.8800\n",
            "Epoch 19/50\n",
            "7600/7600 [==============================] - 1s 70us/step - loss: 0.3507 - acc: 0.8647 - val_loss: 0.3345 - val_acc: 0.8750\n",
            "Epoch 20/50\n",
            "7600/7600 [==============================] - 1s 69us/step - loss: 0.3397 - acc: 0.8636 - val_loss: 0.3268 - val_acc: 0.8700\n",
            "Epoch 21/50\n",
            "7600/7600 [==============================] - 1s 69us/step - loss: 0.3289 - acc: 0.8679 - val_loss: 0.3188 - val_acc: 0.8625\n",
            "Epoch 22/50\n",
            "7600/7600 [==============================] - 1s 70us/step - loss: 0.3294 - acc: 0.8708 - val_loss: 0.3432 - val_acc: 0.8700\n",
            "Epoch 23/50\n",
            "7600/7600 [==============================] - 1s 69us/step - loss: 0.3181 - acc: 0.8754 - val_loss: 0.3371 - val_acc: 0.8825\n",
            "Epoch 24/50\n",
            "7600/7600 [==============================] - 1s 69us/step - loss: 0.3159 - acc: 0.8755 - val_loss: 0.3130 - val_acc: 0.8725\n",
            "Epoch 25/50\n",
            "7600/7600 [==============================] - 1s 70us/step - loss: 0.3038 - acc: 0.8820 - val_loss: 0.3184 - val_acc: 0.8850\n",
            "Epoch 26/50\n",
            "7600/7600 [==============================] - 1s 69us/step - loss: 0.3000 - acc: 0.8770 - val_loss: 0.3270 - val_acc: 0.8725\n",
            "Epoch 27/50\n",
            "7600/7600 [==============================] - 1s 69us/step - loss: 0.2938 - acc: 0.8805 - val_loss: 0.3136 - val_acc: 0.8775\n",
            "Epoch 28/50\n",
            "7600/7600 [==============================] - 1s 69us/step - loss: 0.2873 - acc: 0.8859 - val_loss: 0.3138 - val_acc: 0.8750\n",
            "Epoch 29/50\n",
            "7600/7600 [==============================] - 1s 69us/step - loss: 0.2837 - acc: 0.8850 - val_loss: 0.3249 - val_acc: 0.8725\n",
            "Epoch 30/50\n",
            "7600/7600 [==============================] - 1s 69us/step - loss: 0.2743 - acc: 0.8879 - val_loss: 0.3232 - val_acc: 0.8750\n",
            "Epoch 31/50\n",
            "7600/7600 [==============================] - 1s 68us/step - loss: 0.2780 - acc: 0.8868 - val_loss: 0.3169 - val_acc: 0.8750\n",
            "Epoch 32/50\n",
            "7600/7600 [==============================] - 1s 68us/step - loss: 0.2730 - acc: 0.8921 - val_loss: 0.3088 - val_acc: 0.8800\n",
            "Epoch 33/50\n",
            "7600/7600 [==============================] - 1s 69us/step - loss: 0.2653 - acc: 0.8939 - val_loss: 0.3081 - val_acc: 0.8725\n",
            "Epoch 34/50\n",
            "7600/7600 [==============================] - 1s 69us/step - loss: 0.2730 - acc: 0.8925 - val_loss: 0.3129 - val_acc: 0.8775\n",
            "Epoch 35/50\n",
            "7600/7600 [==============================] - 1s 69us/step - loss: 0.2522 - acc: 0.8974 - val_loss: 0.3086 - val_acc: 0.8850\n",
            "Epoch 36/50\n",
            "7600/7600 [==============================] - 1s 69us/step - loss: 0.2585 - acc: 0.9005 - val_loss: 0.3213 - val_acc: 0.8700\n",
            "Epoch 37/50\n",
            "7600/7600 [==============================] - 1s 70us/step - loss: 0.2538 - acc: 0.8953 - val_loss: 0.3178 - val_acc: 0.8550\n",
            "Epoch 38/50\n",
            "7600/7600 [==============================] - 1s 69us/step - loss: 0.2465 - acc: 0.9007 - val_loss: 0.3277 - val_acc: 0.8650\n",
            "Epoch 39/50\n",
            "7600/7600 [==============================] - 1s 69us/step - loss: 0.2447 - acc: 0.9016 - val_loss: 0.3180 - val_acc: 0.8800\n",
            "Epoch 40/50\n",
            "7600/7600 [==============================] - 1s 71us/step - loss: 0.2435 - acc: 0.8982 - val_loss: 0.3163 - val_acc: 0.8800\n",
            "Epoch 41/50\n",
            "7600/7600 [==============================] - 1s 68us/step - loss: 0.2311 - acc: 0.9089 - val_loss: 0.3097 - val_acc: 0.8975\n",
            "Epoch 42/50\n",
            "7600/7600 [==============================] - 1s 69us/step - loss: 0.2285 - acc: 0.9107 - val_loss: 0.3012 - val_acc: 0.8775\n",
            "Epoch 43/50\n",
            "7600/7600 [==============================] - 1s 69us/step - loss: 0.2240 - acc: 0.9109 - val_loss: 0.3162 - val_acc: 0.8750\n",
            "Epoch 44/50\n",
            "7600/7600 [==============================] - 1s 69us/step - loss: 0.2225 - acc: 0.9129 - val_loss: 0.3126 - val_acc: 0.8925\n",
            "Epoch 45/50\n",
            "7600/7600 [==============================] - 1s 70us/step - loss: 0.2214 - acc: 0.9121 - val_loss: 0.3127 - val_acc: 0.8750\n",
            "Epoch 46/50\n",
            "7600/7600 [==============================] - 1s 69us/step - loss: 0.2119 - acc: 0.9159 - val_loss: 0.3118 - val_acc: 0.8750\n",
            "Epoch 47/50\n",
            "7600/7600 [==============================] - 1s 68us/step - loss: 0.2094 - acc: 0.9172 - val_loss: 0.3023 - val_acc: 0.8825\n",
            "Epoch 48/50\n",
            "7600/7600 [==============================] - 1s 70us/step - loss: 0.2119 - acc: 0.9164 - val_loss: 0.3127 - val_acc: 0.8850\n",
            "Epoch 49/50\n",
            "7600/7600 [==============================] - 1s 68us/step - loss: 0.2091 - acc: 0.9176 - val_loss: 0.3166 - val_acc: 0.8800\n",
            "Epoch 50/50\n",
            "7600/7600 [==============================] - 1s 69us/step - loss: 0.2031 - acc: 0.9208 - val_loss: 0.3276 - val_acc: 0.8700\n"
          ],
          "name": "stdout"
        }
      ]
    },
    {
      "metadata": {
        "id": "5kMtQ92GWWwS",
        "colab_type": "code",
        "colab": {
          "base_uri": "https://localhost:8080/",
          "height": 34
        },
        "outputId": "5b4bb95a-03ab-4905-9cf9-e68909c3f524"
      },
      "cell_type": "code",
      "source": [
        "print(Xtest.shape)"
      ],
      "execution_count": 24,
      "outputs": [
        {
          "output_type": "stream",
          "text": [
            "(2000, 28, 28, 1)\n"
          ],
          "name": "stdout"
        }
      ]
    },
    {
      "metadata": {
        "id": "a9PMdBA_knFI",
        "colab_type": "text"
      },
      "cell_type": "markdown",
      "source": [
        "Prediction for the test data"
      ]
    },
    {
      "metadata": {
        "id": "8L7BuyPHWbGc",
        "colab_type": "code",
        "colab": {}
      },
      "cell_type": "code",
      "source": [
        "ytest = model.predict_classes(Xtest)"
      ],
      "execution_count": 0,
      "outputs": []
    },
    {
      "metadata": {
        "id": "2C6GAl8nWWt3",
        "colab_type": "code",
        "colab": {
          "base_uri": "https://localhost:8080/",
          "height": 54
        },
        "outputId": "349a897e-b6b0-4c8e-8cd1-8d3df09ebe69"
      },
      "cell_type": "code",
      "source": [
        "for i in ytest:\n",
        "  print(i, end = \" \")"
      ],
      "execution_count": 27,
      "outputs": [
        {
          "output_type": "stream",
          "text": [
            "0 3 0 0 0 0 0 0 0 0 0 0 3 0 0 0 0 3 0 0 0 0 0 3 0 0 0 0 0 0 0 0 0 0 0 0 0 3 0 3 3 0 0 0 3 0 3 1 0 0 0 0 0 0 0 0 0 0 3 0 0 0 0 0 0 0 0 0 0 0 0 0 3 0 3 0 0 0 0 0 0 3 0 0 0 0 0 0 0 3 0 0 0 0 0 0 0 0 0 3 0 0 0 0 0 1 0 3 3 0 0 0 0 0 2 0 3 3 0 0 0 0 0 0 3 3 3 0 0 0 0 0 0 0 0 3 0 0 0 0 0 0 0 0 0 0 3 3 0 0 0 0 0 2 0 0 0 3 3 0 3 3 0 0 0 0 3 0 0 3 0 0 0 0 0 0 0 0 0 3 0 0 0 0 0 0 0 3 3 0 0 0 2 0 0 3 0 0 0 0 0 0 0 0 0 0 0 0 0 0 0 0 0 0 0 0 2 0 0 0 0 0 0 0 0 0 3 0 0 0 0 0 0 3 0 0 0 0 0 0 0 0 0 0 0 0 3 0 3 0 0 3 0 3 3 0 0 0 0 3 1 0 0 3 1 3 0 0 0 0 0 3 3 0 3 0 0 0 0 0 0 0 0 0 0 0 0 0 1 0 3 3 0 0 0 1 0 0 0 0 0 0 0 3 0 0 0 0 0 0 0 3 0 1 0 0 0 0 0 0 0 0 3 3 0 0 0 0 0 0 0 0 0 0 0 0 0 3 0 3 0 0 0 0 0 0 0 3 0 0 0 0 1 0 0 0 0 2 3 0 0 3 0 3 0 3 0 1 0 0 0 0 0 0 0 0 0 0 0 0 3 0 0 0 3 0 0 0 3 0 0 0 0 0 2 0 0 0 0 0 1 0 1 0 0 0 0 0 0 0 0 0 0 0 0 0 3 0 0 0 0 0 0 0 0 1 2 3 0 0 0 0 0 0 3 0 3 0 2 0 0 0 0 0 0 3 0 0 0 0 3 0 0 3 0 0 0 0 3 0 0 0 0 0 0 0 0 0 3 0 3 0 0 0 2 0 0 0 0 0 0 0 0 0 0 0 0 0 0 0 0 0 0 3 0 0 3 0 0 0 1 1 1 1 1 3 1 1 3 1 1 1 1 1 1 1 1 1 1 1 1 1 1 3 1 1 1 1 1 1 1 1 1 1 3 1 1 1 1 1 1 1 1 1 1 3 1 1 1 1 1 1 1 1 1 3 1 1 1 1 1 1 1 3 1 1 1 1 1 1 1 1 1 1 1 1 1 1 1 1 1 1 1 1 1 3 1 1 1 1 0 1 3 1 1 1 1 1 1 1 3 1 1 1 1 1 1 1 3 1 1 1 1 1 1 1 1 1 1 1 1 1 1 1 1 1 1 3 1 1 1 1 1 1 1 1 1 3 1 1 1 1 3 1 1 1 2 1 1 1 1 1 1 1 1 1 3 1 1 1 1 1 1 1 1 0 3 3 1 1 1 1 1 1 1 1 1 1 1 1 1 1 1 1 1 1 1 1 1 3 1 1 1 3 1 1 1 1 1 1 3 1 1 1 1 1 1 1 1 1 1 1 1 1 2 1 1 1 1 1 1 1 1 1 1 3 3 1 1 1 1 1 1 1 1 1 1 1 1 1 1 1 1 3 3 1 1 1 3 1 3 1 1 3 1 1 1 1 1 1 1 1 1 3 1 1 1 1 1 3 1 1 1 1 1 1 1 1 1 1 1 1 1 1 1 1 1 1 1 1 1 1 1 1 3 1 1 1 3 1 1 1 1 1 1 1 1 1 1 1 1 1 1 1 1 1 3 1 1 1 1 1 1 1 1 3 1 1 3 1 1 1 3 0 0 1 1 1 1 3 1 1 1 1 1 1 1 1 1 1 1 1 1 1 1 1 1 1 3 1 3 2 3 1 1 1 2 1 1 1 1 1 1 0 2 1 1 3 3 1 1 1 1 1 1 1 1 1 1 1 3 1 1 1 1 1 1 1 1 1 3 2 1 3 1 1 1 1 1 1 1 1 1 1 1 1 1 2 1 1 1 1 1 1 1 3 1 1 1 1 1 1 1 1 1 0 1 1 1 1 1 1 1 1 1 1 1 1 1 1 1 1 1 1 1 1 1 1 1 1 1 1 1 1 1 1 1 1 1 1 1 1 1 1 1 1 1 1 1 1 1 3 1 1 1 1 1 1 1 3 1 1 1 1 1 1 1 1 1 1 2 2 2 2 3 2 2 2 2 2 2 2 2 2 2 2 2 2 2 2 3 2 2 2 2 2 2 2 2 2 2 2 2 2 2 2 2 2 2 2 2 3 2 2 2 3 2 2 2 2 2 3 2 3 2 2 2 2 2 2 3 2 2 2 2 2 2 2 0 2 2 2 2 2 2 2 2 2 2 2 2 2 2 2 2 2 2 1 0 2 2 2 2 2 2 2 2 2 2 2 2 2 2 2 2 2 2 2 2 2 2 2 2 2 2 2 2 2 2 3 2 3 2 2 2 2 2 2 2 2 2 2 2 2 2 2 2 2 2 2 2 2 2 2 2 2 2 2 2 2 2 2 2 2 2 2 2 2 3 2 2 2 2 2 2 2 2 2 2 2 2 2 2 2 2 2 2 3 2 2 2 2 2 2 2 3 2 2 2 2 2 2 2 2 2 2 2 2 2 2 2 2 2 2 2 2 2 3 2 2 2 2 2 2 2 2 2 2 2 2 2 2 2 2 2 2 2 3 2 2 2 2 2 2 2 2 2 2 2 2 3 2 2 2 2 2 2 2 2 2 2 2 2 2 2 2 2 2 2 2 2 2 2 3 2 2 2 2 2 3 2 2 2 2 2 2 2 2 2 2 2 3 2 2 2 2 2 2 2 2 2 3 1 2 2 2 2 2 2 1 2 2 2 2 2 2 2 2 2 2 2 2 2 2 2 2 2 2 2 3 2 2 2 2 2 2 2 3 0 2 2 2 2 2 2 2 2 2 2 2 0 2 2 2 3 2 2 2 2 2 2 2 2 0 2 2 2 2 2 3 2 2 2 2 3 2 2 2 2 2 2 2 2 2 2 3 2 2 2 2 2 2 2 2 2 2 2 2 2 2 2 2 2 2 2 2 2 2 2 2 0 0 2 2 2 2 3 2 2 2 2 2 2 2 2 2 2 2 2 2 2 2 2 2 2 2 2 2 2 2 2 2 2 2 2 2 2 2 2 2 2 2 2 2 2 2 2 2 2 2 2 2 2 2 2 2 3 2 2 2 2 2 2 2 2 2 2 2 2 2 2 2 2 2 2 2 2 2 2 2 2 3 2 2 2 2 2 1 2 2 2 2 2 2 2 2 2 2 2 2 3 3 3 3 3 3 3 3 3 3 3 3 2 3 3 3 3 3 3 1 3 3 3 3 3 3 3 3 3 1 3 3 3 3 3 1 3 3 3 3 3 3 3 3 3 3 3 3 3 3 3 3 3 0 3 3 3 3 1 3 3 0 3 3 3 3 3 3 3 2 3 3 3 3 3 3 3 3 3 3 3 3 3 3 3 1 3 1 3 1 3 3 3 3 0 3 3 3 3 3 3 3 3 3 3 3 3 3 3 3 3 3 3 3 3 0 3 1 3 3 3 3 3 1 0 3 3 3 3 3 0 3 3 3 3 3 3 3 3 3 0 3 3 3 3 3 3 3 1 3 3 3 3 3 3 3 3 3 3 3 3 3 1 3 1 3 3 0 3 3 3 3 3 3 3 3 3 3 3 3 3 3 3 0 3 3 3 3 3 3 3 0 3 3 3 3 3 0 3 3 3 3 3 3 3 3 3 3 3 3 3 1 3 3 1 3 3 0 3 3 3 0 0 1 3 1 1 1 0 3 3 1 0 3 3 3 3 3 0 1 3 1 3 3 2 3 0 3 3 1 3 3 2 3 3 1 1 3 3 3 3 3 0 3 1 3 3 3 3 3 3 3 0 3 3 1 0 3 3 3 3 3 1 3 3 3 3 3 3 3 1 3 3 1 1 3 3 3 0 3 3 3 3 3 3 3 3 3 3 3 3 3 1 1 3 3 3 3 3 3 0 3 3 3 3 3 2 3 3 3 3 3 3 1 1 3 3 2 3 3 0 3 3 3 3 3 3 3 3 0 0 3 3 3 3 1 3 3 3 3 3 3 3 3 3 3 3 1 3 1 3 3 0 2 3 1 3 3 3 3 3 3 3 3 3 3 3 3 0 3 3 3 3 3 3 3 3 3 3 3 3 3 2 3 0 3 3 3 0 3 3 3 0 3 3 3 3 3 3 1 0 0 1 3 3 3 3 3 3 3 3 3 3 3 3 0 3 3 3 3 3 3 3 3 3 2 3 3 3 3 3 3 3 3 1 3 3 3 3 0 3 3 3 1 3 0 3 3 1 3 1 3 3 0 3 0 3 3 1 3 3 3 3 3 2 3 1 3 3 3 3 3 3 3 2 3 3 3 3 3 "
          ],
          "name": "stdout"
        }
      ]
    },
    {
      "metadata": {
        "id": "OTBOW2kIX3vG",
        "colab_type": "code",
        "colab": {
          "base_uri": "https://localhost:8080/",
          "height": 34
        },
        "outputId": "1136d309-97e0-44c6-80df-30210f272552"
      },
      "cell_type": "code",
      "source": [
        "print(np.unique(ytest))"
      ],
      "execution_count": 28,
      "outputs": [
        {
          "output_type": "stream",
          "text": [
            "[0 1 2 3]\n"
          ],
          "name": "stdout"
        }
      ]
    },
    {
      "metadata": {
        "id": "g58H0li5WWg0",
        "colab_type": "code",
        "colab": {
          "base_uri": "https://localhost:8080/",
          "height": 34
        },
        "outputId": "f7ce745f-9bf9-478a-f655-b06201be1a4a"
      },
      "cell_type": "code",
      "source": [
        "for i in range(len(ytest)):\n",
        "  if ytest[i]==1:\n",
        "    ytest[i] = 2\n",
        "  elif ytest[i]==2:\n",
        "    ytest[i] = 3\n",
        "  elif ytest[i]==3:\n",
        "    ytest[i]=6\n",
        "print(np.unique(ytest))"
      ],
      "execution_count": 29,
      "outputs": [
        {
          "output_type": "stream",
          "text": [
            "[0 2 3 6]\n"
          ],
          "name": "stdout"
        }
      ]
    },
    {
      "metadata": {
        "id": "MPrdtzKSksJj",
        "colab_type": "text"
      },
      "cell_type": "markdown",
      "source": [
        "Storing the work in the csv file"
      ]
    },
    {
      "metadata": {
        "id": "m7NUiNRKVrdY",
        "colab_type": "code",
        "colab": {
          "base_uri": "https://localhost:8080/",
          "height": 51
        },
        "outputId": "68288534-2127-4aab-c36b-17182bd3e1eb"
      },
      "cell_type": "code",
      "source": [
        "'''for i in range(len(ytrain)):\n",
        "    if ytrain[i] == 2:\n",
        "        ytrain[i] = 1\n",
        "    elif ytrain[i] == 3:\n",
        "        ytrain[i] = 2\n",
        "    elif ytrain[i] == 6:\n",
        "        ytrain[i] = 3'''\n",
        "print(ytest.shape)\n",
        "print(type(ytest))"
      ],
      "execution_count": 31,
      "outputs": [
        {
          "output_type": "stream",
          "text": [
            "(2000,)\n",
            "<class 'numpy.ndarray'>\n"
          ],
          "name": "stdout"
        }
      ]
    },
    {
      "metadata": {
        "id": "d5W34yHjYWca",
        "colab_type": "code",
        "colab": {}
      },
      "cell_type": "code",
      "source": [
        "import pandas as pd\n",
        "df = pd.DataFrame(columns = ('image_index', 'class'))"
      ],
      "execution_count": 0,
      "outputs": []
    },
    {
      "metadata": {
        "id": "424LMXTjZ4oI",
        "colab_type": "code",
        "colab": {
          "base_uri": "https://localhost:8080/",
          "height": 49
        },
        "outputId": "744bb060-fc34-41b6-c8d5-fa71da76ae33"
      },
      "cell_type": "code",
      "source": [
        "df"
      ],
      "execution_count": 51,
      "outputs": [
        {
          "output_type": "execute_result",
          "data": {
            "text/html": [
              "<div>\n",
              "<style scoped>\n",
              "    .dataframe tbody tr th:only-of-type {\n",
              "        vertical-align: middle;\n",
              "    }\n",
              "\n",
              "    .dataframe tbody tr th {\n",
              "        vertical-align: top;\n",
              "    }\n",
              "\n",
              "    .dataframe thead th {\n",
              "        text-align: right;\n",
              "    }\n",
              "</style>\n",
              "<table border=\"1\" class=\"dataframe\">\n",
              "  <thead>\n",
              "    <tr style=\"text-align: right;\">\n",
              "      <th></th>\n",
              "      <th>image_index</th>\n",
              "      <th>class</th>\n",
              "    </tr>\n",
              "  </thead>\n",
              "  <tbody>\n",
              "  </tbody>\n",
              "</table>\n",
              "</div>"
            ],
            "text/plain": [
              "Empty DataFrame\n",
              "Columns: [image_index, class]\n",
              "Index: []"
            ]
          },
          "metadata": {
            "tags": []
          },
          "execution_count": 51
        }
      ]
    },
    {
      "metadata": {
        "id": "d5P1_bjCdAPC",
        "colab_type": "code",
        "colab": {}
      },
      "cell_type": "code",
      "source": [
        "row = []\n",
        "for i in range(len(ytest)):\n",
        "  temp = pd.DataFrame({'image_index':[i],\n",
        "                       'class':[ ytest[i] ] \n",
        "                      }\n",
        "                     )\n",
        "  df.append(temp)"
      ],
      "execution_count": 0,
      "outputs": []
    },
    {
      "metadata": {
        "id": "IpId6teAdlaf",
        "colab_type": "code",
        "colab": {
          "base_uri": "https://localhost:8080/",
          "height": 49
        },
        "outputId": "93ec1b71-5b8d-4d2a-8414-d5aeb00e60cf"
      },
      "cell_type": "code",
      "source": [
        "df"
      ],
      "execution_count": 53,
      "outputs": [
        {
          "output_type": "execute_result",
          "data": {
            "text/html": [
              "<div>\n",
              "<style scoped>\n",
              "    .dataframe tbody tr th:only-of-type {\n",
              "        vertical-align: middle;\n",
              "    }\n",
              "\n",
              "    .dataframe tbody tr th {\n",
              "        vertical-align: top;\n",
              "    }\n",
              "\n",
              "    .dataframe thead th {\n",
              "        text-align: right;\n",
              "    }\n",
              "</style>\n",
              "<table border=\"1\" class=\"dataframe\">\n",
              "  <thead>\n",
              "    <tr style=\"text-align: right;\">\n",
              "      <th></th>\n",
              "      <th>image_index</th>\n",
              "      <th>class</th>\n",
              "    </tr>\n",
              "  </thead>\n",
              "  <tbody>\n",
              "  </tbody>\n",
              "</table>\n",
              "</div>"
            ],
            "text/plain": [
              "Empty DataFrame\n",
              "Columns: [image_index, class]\n",
              "Index: []"
            ]
          },
          "metadata": {
            "tags": []
          },
          "execution_count": 53
        }
      ]
    },
    {
      "metadata": {
        "id": "DLwnw5vOeaIm",
        "colab_type": "code",
        "colab": {
          "base_uri": "https://localhost:8080/",
          "height": 34
        },
        "outputId": "a20b300e-12b7-4407-ed6d-abf29af19209"
      },
      "cell_type": "code",
      "source": [
        "row = []\n",
        "for i in range(len(ytest)):\n",
        "  row.append(i)\n",
        "\n",
        "print(len(row))"
      ],
      "execution_count": 55,
      "outputs": [
        {
          "output_type": "stream",
          "text": [
            "2000\n"
          ],
          "name": "stdout"
        }
      ]
    },
    {
      "metadata": {
        "id": "iEZT1lWlfZTN",
        "colab_type": "code",
        "colab": {}
      },
      "cell_type": "code",
      "source": [
        "data = {\"image_index\":row, \n",
        "        \"class\":ytest}\n",
        "\n",
        "df2 = pd.DataFrame(data)\n",
        "df2 = df2[[\"image_index\", \"class\"]]"
      ],
      "execution_count": 0,
      "outputs": []
    },
    {
      "metadata": {
        "id": "mCp6-VIIflN2",
        "colab_type": "code",
        "colab": {
          "base_uri": "https://localhost:8080/",
          "height": 1969
        },
        "outputId": "6dabcf13-d5fa-4fc0-d9cb-8513116f7e26"
      },
      "cell_type": "code",
      "source": [
        "df2"
      ],
      "execution_count": 68,
      "outputs": [
        {
          "output_type": "execute_result",
          "data": {
            "text/html": [
              "<div>\n",
              "<style scoped>\n",
              "    .dataframe tbody tr th:only-of-type {\n",
              "        vertical-align: middle;\n",
              "    }\n",
              "\n",
              "    .dataframe tbody tr th {\n",
              "        vertical-align: top;\n",
              "    }\n",
              "\n",
              "    .dataframe thead th {\n",
              "        text-align: right;\n",
              "    }\n",
              "</style>\n",
              "<table border=\"1\" class=\"dataframe\">\n",
              "  <thead>\n",
              "    <tr style=\"text-align: right;\">\n",
              "      <th></th>\n",
              "      <th>image_index</th>\n",
              "      <th>class</th>\n",
              "    </tr>\n",
              "  </thead>\n",
              "  <tbody>\n",
              "    <tr>\n",
              "      <th>0</th>\n",
              "      <td>0</td>\n",
              "      <td>0</td>\n",
              "    </tr>\n",
              "    <tr>\n",
              "      <th>1</th>\n",
              "      <td>1</td>\n",
              "      <td>6</td>\n",
              "    </tr>\n",
              "    <tr>\n",
              "      <th>2</th>\n",
              "      <td>2</td>\n",
              "      <td>0</td>\n",
              "    </tr>\n",
              "    <tr>\n",
              "      <th>3</th>\n",
              "      <td>3</td>\n",
              "      <td>0</td>\n",
              "    </tr>\n",
              "    <tr>\n",
              "      <th>4</th>\n",
              "      <td>4</td>\n",
              "      <td>0</td>\n",
              "    </tr>\n",
              "    <tr>\n",
              "      <th>5</th>\n",
              "      <td>5</td>\n",
              "      <td>0</td>\n",
              "    </tr>\n",
              "    <tr>\n",
              "      <th>6</th>\n",
              "      <td>6</td>\n",
              "      <td>0</td>\n",
              "    </tr>\n",
              "    <tr>\n",
              "      <th>7</th>\n",
              "      <td>7</td>\n",
              "      <td>0</td>\n",
              "    </tr>\n",
              "    <tr>\n",
              "      <th>8</th>\n",
              "      <td>8</td>\n",
              "      <td>0</td>\n",
              "    </tr>\n",
              "    <tr>\n",
              "      <th>9</th>\n",
              "      <td>9</td>\n",
              "      <td>0</td>\n",
              "    </tr>\n",
              "    <tr>\n",
              "      <th>10</th>\n",
              "      <td>10</td>\n",
              "      <td>0</td>\n",
              "    </tr>\n",
              "    <tr>\n",
              "      <th>11</th>\n",
              "      <td>11</td>\n",
              "      <td>0</td>\n",
              "    </tr>\n",
              "    <tr>\n",
              "      <th>12</th>\n",
              "      <td>12</td>\n",
              "      <td>6</td>\n",
              "    </tr>\n",
              "    <tr>\n",
              "      <th>13</th>\n",
              "      <td>13</td>\n",
              "      <td>0</td>\n",
              "    </tr>\n",
              "    <tr>\n",
              "      <th>14</th>\n",
              "      <td>14</td>\n",
              "      <td>0</td>\n",
              "    </tr>\n",
              "    <tr>\n",
              "      <th>15</th>\n",
              "      <td>15</td>\n",
              "      <td>0</td>\n",
              "    </tr>\n",
              "    <tr>\n",
              "      <th>16</th>\n",
              "      <td>16</td>\n",
              "      <td>0</td>\n",
              "    </tr>\n",
              "    <tr>\n",
              "      <th>17</th>\n",
              "      <td>17</td>\n",
              "      <td>6</td>\n",
              "    </tr>\n",
              "    <tr>\n",
              "      <th>18</th>\n",
              "      <td>18</td>\n",
              "      <td>0</td>\n",
              "    </tr>\n",
              "    <tr>\n",
              "      <th>19</th>\n",
              "      <td>19</td>\n",
              "      <td>0</td>\n",
              "    </tr>\n",
              "    <tr>\n",
              "      <th>20</th>\n",
              "      <td>20</td>\n",
              "      <td>0</td>\n",
              "    </tr>\n",
              "    <tr>\n",
              "      <th>21</th>\n",
              "      <td>21</td>\n",
              "      <td>0</td>\n",
              "    </tr>\n",
              "    <tr>\n",
              "      <th>22</th>\n",
              "      <td>22</td>\n",
              "      <td>0</td>\n",
              "    </tr>\n",
              "    <tr>\n",
              "      <th>23</th>\n",
              "      <td>23</td>\n",
              "      <td>6</td>\n",
              "    </tr>\n",
              "    <tr>\n",
              "      <th>24</th>\n",
              "      <td>24</td>\n",
              "      <td>0</td>\n",
              "    </tr>\n",
              "    <tr>\n",
              "      <th>25</th>\n",
              "      <td>25</td>\n",
              "      <td>0</td>\n",
              "    </tr>\n",
              "    <tr>\n",
              "      <th>26</th>\n",
              "      <td>26</td>\n",
              "      <td>0</td>\n",
              "    </tr>\n",
              "    <tr>\n",
              "      <th>27</th>\n",
              "      <td>27</td>\n",
              "      <td>0</td>\n",
              "    </tr>\n",
              "    <tr>\n",
              "      <th>28</th>\n",
              "      <td>28</td>\n",
              "      <td>0</td>\n",
              "    </tr>\n",
              "    <tr>\n",
              "      <th>29</th>\n",
              "      <td>29</td>\n",
              "      <td>0</td>\n",
              "    </tr>\n",
              "    <tr>\n",
              "      <th>...</th>\n",
              "      <td>...</td>\n",
              "      <td>...</td>\n",
              "    </tr>\n",
              "    <tr>\n",
              "      <th>1970</th>\n",
              "      <td>1970</td>\n",
              "      <td>2</td>\n",
              "    </tr>\n",
              "    <tr>\n",
              "      <th>1971</th>\n",
              "      <td>1971</td>\n",
              "      <td>6</td>\n",
              "    </tr>\n",
              "    <tr>\n",
              "      <th>1972</th>\n",
              "      <td>1972</td>\n",
              "      <td>6</td>\n",
              "    </tr>\n",
              "    <tr>\n",
              "      <th>1973</th>\n",
              "      <td>1973</td>\n",
              "      <td>0</td>\n",
              "    </tr>\n",
              "    <tr>\n",
              "      <th>1974</th>\n",
              "      <td>1974</td>\n",
              "      <td>6</td>\n",
              "    </tr>\n",
              "    <tr>\n",
              "      <th>1975</th>\n",
              "      <td>1975</td>\n",
              "      <td>0</td>\n",
              "    </tr>\n",
              "    <tr>\n",
              "      <th>1976</th>\n",
              "      <td>1976</td>\n",
              "      <td>6</td>\n",
              "    </tr>\n",
              "    <tr>\n",
              "      <th>1977</th>\n",
              "      <td>1977</td>\n",
              "      <td>6</td>\n",
              "    </tr>\n",
              "    <tr>\n",
              "      <th>1978</th>\n",
              "      <td>1978</td>\n",
              "      <td>2</td>\n",
              "    </tr>\n",
              "    <tr>\n",
              "      <th>1979</th>\n",
              "      <td>1979</td>\n",
              "      <td>6</td>\n",
              "    </tr>\n",
              "    <tr>\n",
              "      <th>1980</th>\n",
              "      <td>1980</td>\n",
              "      <td>6</td>\n",
              "    </tr>\n",
              "    <tr>\n",
              "      <th>1981</th>\n",
              "      <td>1981</td>\n",
              "      <td>6</td>\n",
              "    </tr>\n",
              "    <tr>\n",
              "      <th>1982</th>\n",
              "      <td>1982</td>\n",
              "      <td>6</td>\n",
              "    </tr>\n",
              "    <tr>\n",
              "      <th>1983</th>\n",
              "      <td>1983</td>\n",
              "      <td>6</td>\n",
              "    </tr>\n",
              "    <tr>\n",
              "      <th>1984</th>\n",
              "      <td>1984</td>\n",
              "      <td>3</td>\n",
              "    </tr>\n",
              "    <tr>\n",
              "      <th>1985</th>\n",
              "      <td>1985</td>\n",
              "      <td>6</td>\n",
              "    </tr>\n",
              "    <tr>\n",
              "      <th>1986</th>\n",
              "      <td>1986</td>\n",
              "      <td>2</td>\n",
              "    </tr>\n",
              "    <tr>\n",
              "      <th>1987</th>\n",
              "      <td>1987</td>\n",
              "      <td>6</td>\n",
              "    </tr>\n",
              "    <tr>\n",
              "      <th>1988</th>\n",
              "      <td>1988</td>\n",
              "      <td>6</td>\n",
              "    </tr>\n",
              "    <tr>\n",
              "      <th>1989</th>\n",
              "      <td>1989</td>\n",
              "      <td>6</td>\n",
              "    </tr>\n",
              "    <tr>\n",
              "      <th>1990</th>\n",
              "      <td>1990</td>\n",
              "      <td>6</td>\n",
              "    </tr>\n",
              "    <tr>\n",
              "      <th>1991</th>\n",
              "      <td>1991</td>\n",
              "      <td>6</td>\n",
              "    </tr>\n",
              "    <tr>\n",
              "      <th>1992</th>\n",
              "      <td>1992</td>\n",
              "      <td>6</td>\n",
              "    </tr>\n",
              "    <tr>\n",
              "      <th>1993</th>\n",
              "      <td>1993</td>\n",
              "      <td>6</td>\n",
              "    </tr>\n",
              "    <tr>\n",
              "      <th>1994</th>\n",
              "      <td>1994</td>\n",
              "      <td>3</td>\n",
              "    </tr>\n",
              "    <tr>\n",
              "      <th>1995</th>\n",
              "      <td>1995</td>\n",
              "      <td>6</td>\n",
              "    </tr>\n",
              "    <tr>\n",
              "      <th>1996</th>\n",
              "      <td>1996</td>\n",
              "      <td>6</td>\n",
              "    </tr>\n",
              "    <tr>\n",
              "      <th>1997</th>\n",
              "      <td>1997</td>\n",
              "      <td>6</td>\n",
              "    </tr>\n",
              "    <tr>\n",
              "      <th>1998</th>\n",
              "      <td>1998</td>\n",
              "      <td>6</td>\n",
              "    </tr>\n",
              "    <tr>\n",
              "      <th>1999</th>\n",
              "      <td>1999</td>\n",
              "      <td>6</td>\n",
              "    </tr>\n",
              "  </tbody>\n",
              "</table>\n",
              "<p>2000 rows × 2 columns</p>\n",
              "</div>"
            ],
            "text/plain": [
              "      image_index  class\n",
              "0               0      0\n",
              "1               1      6\n",
              "2               2      0\n",
              "3               3      0\n",
              "4               4      0\n",
              "5               5      0\n",
              "6               6      0\n",
              "7               7      0\n",
              "8               8      0\n",
              "9               9      0\n",
              "10             10      0\n",
              "11             11      0\n",
              "12             12      6\n",
              "13             13      0\n",
              "14             14      0\n",
              "15             15      0\n",
              "16             16      0\n",
              "17             17      6\n",
              "18             18      0\n",
              "19             19      0\n",
              "20             20      0\n",
              "21             21      0\n",
              "22             22      0\n",
              "23             23      6\n",
              "24             24      0\n",
              "25             25      0\n",
              "26             26      0\n",
              "27             27      0\n",
              "28             28      0\n",
              "29             29      0\n",
              "...           ...    ...\n",
              "1970         1970      2\n",
              "1971         1971      6\n",
              "1972         1972      6\n",
              "1973         1973      0\n",
              "1974         1974      6\n",
              "1975         1975      0\n",
              "1976         1976      6\n",
              "1977         1977      6\n",
              "1978         1978      2\n",
              "1979         1979      6\n",
              "1980         1980      6\n",
              "1981         1981      6\n",
              "1982         1982      6\n",
              "1983         1983      6\n",
              "1984         1984      3\n",
              "1985         1985      6\n",
              "1986         1986      2\n",
              "1987         1987      6\n",
              "1988         1988      6\n",
              "1989         1989      6\n",
              "1990         1990      6\n",
              "1991         1991      6\n",
              "1992         1992      6\n",
              "1993         1993      6\n",
              "1994         1994      3\n",
              "1995         1995      6\n",
              "1996         1996      6\n",
              "1997         1997      6\n",
              "1998         1998      6\n",
              "1999         1999      6\n",
              "\n",
              "[2000 rows x 2 columns]"
            ]
          },
          "metadata": {
            "tags": []
          },
          "execution_count": 68
        }
      ]
    },
    {
      "metadata": {
        "id": "8hZkf1A0f2Ox",
        "colab_type": "code",
        "colab": {}
      },
      "cell_type": "code",
      "source": [
        "df2.to_csv(\"finalfile\", encoding='utf-8', index=False)"
      ],
      "execution_count": 0,
      "outputs": []
    },
    {
      "metadata": {
        "id": "jS8bwUjDh2lf",
        "colab_type": "code",
        "colab": {}
      },
      "cell_type": "code",
      "source": [
        ""
      ],
      "execution_count": 0,
      "outputs": []
    }
  ]
}